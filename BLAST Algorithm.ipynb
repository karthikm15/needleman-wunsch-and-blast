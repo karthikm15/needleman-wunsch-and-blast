{
 "cells": [
  {
   "cell_type": "markdown",
   "id": "bcac1fee",
   "metadata": {},
   "source": [
    "# Installing Dependencies"
   ]
  },
  {
   "cell_type": "code",
   "execution_count": 1,
   "id": "40bad5d9",
   "metadata": {},
   "outputs": [],
   "source": [
    "import numpy as np"
   ]
  },
  {
   "cell_type": "markdown",
   "id": "cea22ca6",
   "metadata": {},
   "source": [
    "# BLAST Algorithm With E-Coli Data (W-Mer = 12)\n",
    "\n",
    "Local alignment, aligning different regions of sequences that are seen to have similar sequence motifs, can be done through the BLAST algorithm.\n",
    "\n",
    "The BLAST algorithm exploits the property of database searching where most of the target sequences that are found will often be unrelated to the query sequence. For example, if we are looking for different sequences of length 100 and want to reject matches that are less than 90% identical, then we do not need to look for sequences not containing a consecutive stretch of ten matching nucleotides in a row (often called the pigeonhole principle).\n",
    "\n",
    "The BLAST algorithm does local alignment of a sequence of length m in a database of length n in O(m), through these five steps:\n",
    "- Split query into overlapping words of length W (W-mers)\n",
    "- Find “neighborhood” of similar words for each word\n",
    "- Lookup each word in the neighborhood in the hash table to find the location in the database where each word occurs.\n",
    "- Extend the seeds until the score of the alignment drops below some threshold.\n",
    "- Report matches with overall highest scores\n",
    "\n",
    "Blast Algorithm Pictoral Representation:\n",
    "![blast.png](blast.png)\n",
    "\n",
    "Article explaining this in more depth: https://medium.com/analytics-vidhya/matching-genetic-sequences-through-the-blast-and-karp-rabin-algorithm-ffebc810a9d0"
   ]
  },
  {
   "cell_type": "code",
   "execution_count": 10,
   "id": "b165f88b",
   "metadata": {},
   "outputs": [],
   "source": [
    "dna = open(\"e_coli_seq.txt\") # open arbitrary list of e.coli sequences\n",
    "query = open(\"query.txt\") # one-line query --> can construct 12-mers off of this\n",
    "\n",
    "gene = []\n",
    "query_seq = []\n",
    "words_seq = []\n",
    "hsp_word = []\n",
    "\n",
    "# Gene represents the sets of nucleotides, arranged in the order of the genetic sequences in the text file\n",
    "for line in dna:\n",
    "    if line[0] != '>':\n",
    "        end = len(line)\n",
    "        for words in line[0:end-1]:\n",
    "            gene.append(words) \n",
    "\n",
    "# Query represents the sets of nucleotides of the query sequence, arranged in the order seen in the text file\n",
    "for line in query:\n",
    "    if line[0] != '>':\n",
    "        end = len(line)\n",
    "        for words in line[0:end]:\n",
    "            query_seq.append(words)"
   ]
  },
  {
   "cell_type": "code",
   "execution_count": 11,
   "id": "0246faa7",
   "metadata": {},
   "outputs": [],
   "source": [
    "# Building a list of W-mers off of the query-sequence\n",
    "for i in range(0,len(query_seq)):\n",
    "    if i+11\t< len(query_seq):\n",
    "        words_seq.append(query_seq[i:i+12])"
   ]
  },
  {
   "cell_type": "code",
   "execution_count": 23,
   "id": "f1847532",
   "metadata": {},
   "outputs": [
    {
     "name": "stdout",
     "output_type": "stream",
     "text": [
      "[[24, 0, 1479], [24, 1, 573], [24, 2, 574], [33, 3, 575], [33, 4, 576], [42, 5, 577], [33, 6, 167], [33, 7, 168], [33, 8, 626], [33, 9, 627], [33, 10, 628], [33, 11, 563], [24, 12, 70], [33, 13, 616], [42, 14, 1656], [42, 15, 1657], [33, 16, 535], [33, 17, 1659], [33, 18, 1660], [33, 19, 214], [33, 20, 922], [33, 21, 205], [33, 22, 399], [33, 23, 1915], [33, 24, 401], [24, 25, 209], [33, 26, 2056], [33, 27, 2696], [42, 28, 2697], [51, 29, 2698], [60, 30, 2699], [60, 31, 2700], [51, 32, 2701], [42, 33, 2702], [33, 34, 2597], [33, 35, 1453], [33, 36, 1454], [33, 37, 255], [33, 38, 903], [33, 39, 2708], [33, 40, 81], [42, 41, 82], [42, 42, 83], [42, 43, 387], [42, 44, 388], [51, 45, 2714], [60, 46, 2715], [60, 47, 2716], [60, 48, 2717], [60, 49, 2718], [60, 50, 2719], [60, 51, 2720]]\n"
     ]
    }
   ],
   "source": [
    "hsp_word = []\n",
    "def high_scoring_pairs(): # finding the high scoring pairs in the data\n",
    "    score = 0\n",
    "    for i in range(0,len(words_seq)):\n",
    "        k, score_init, index = 0, 0, 0 # finding a different score for every W-mer of the query sequence\n",
    "        while(len(gene) >= k+12): \n",
    "            score = 0\n",
    "            for j in range(k,k+12):\n",
    "                if words_seq[i][j-k] == gene[j]: # adds to the score if the query sequence matches the nucleotide seq\n",
    "                    score += 5\n",
    "                if words_seq[i][j-k] != gene[j]: # removes from the score if the query sequence doesn't match\n",
    "                    score -= 4\n",
    "            if score > score_init: # checks if this was the highest score that was seen and then changes it\n",
    "                score_init = score\n",
    "                index = k\n",
    "            k = k+1\n",
    "        hsp_word.append([score_init,i,index]) # finds all the highest scores to find most optimal W-mers\n",
    "    print(hsp_word)\n",
    "high_scoring_pairs()"
   ]
  },
  {
   "cell_type": "code",
   "execution_count": 33,
   "id": "e576bc9f",
   "metadata": {},
   "outputs": [
    {
     "name": "stdout",
     "output_type": "stream",
     "text": [
      "Query:\n",
      "CGTGAGTCAGCTATTGAACTGGCCGCGCAATGGAAGAGTTGTTAATCCGCAAAATCTGGCAA\n",
      "Sequence:\n",
      "['T', 'G', 'G', 'A', 'A', 'G', 'A', 'G', 'T', 'T', 'G', 'T']\n",
      "\n",
      "Query:\n",
      "CGTGAGTCAGCTATTGAACTGGCCGCGCAATGGAAGAGTTGTTAATCCGCAAAATCTGGCAA\n",
      "Sequence:\n",
      "['G', 'G', 'A', 'A', 'G', 'A', 'G', 'T', 'T', 'G', 'T', 'T']\n",
      "\n",
      "Query:\n",
      "CGTGAGTCAGCTATTGAACTGGCCGCGCAATGGAAGAGTTGTTAATCCGCAAAATCTGGCAA\n",
      "Sequence:\n",
      "['C', 'C', 'G', 'C', 'A', 'A', 'A', 'A', 'T', 'C', 'T', 'G']\n",
      "\n",
      "Query:\n",
      "CGTGAGTCAGCTATTGAACTGGCCGCGCAATGGAAGAGTTGTTAATCCGCAAAATCTGGCAA\n",
      "Sequence:\n",
      "['C', 'G', 'C', 'A', 'A', 'A', 'A', 'T', 'C', 'T', 'G', 'G']\n",
      "\n",
      "Query:\n",
      "CGTGAGTCAGCTATTGAACTGGCCGCGCAATGGAAGAGTTGTTAATCCGCAAAATCTGGCAA\n",
      "Sequence:\n",
      "['G', 'C', 'A', 'A', 'A', 'A', 'T', 'C', 'T', 'G', 'G', 'C']\n",
      "\n",
      "Query:\n",
      "CGTGAGTCAGCTATTGAACTGGCCGCGCAATGGAAGAGTTGTTAATCCGCAAAATCTGGCAA\n",
      "Sequence:\n",
      "['C', 'A', 'A', 'A', 'A', 'T', 'C', 'T', 'G', 'G', 'C', 'A']\n",
      "\n",
      "Query:\n",
      "CGTGAGTCAGCTATTGAACTGGCCGCGCAATGGAAGAGTTGTTAATCCGCAAAATCTGGCAA\n",
      "Sequence:\n",
      "['A', 'A', 'A', 'A', 'T', 'C', 'T', 'G', 'G', 'C', 'A', 'A']\n",
      "\n",
      "Query:\n",
      "CGTGAGTCAGCTATTGAACTGGCCGCGCAATGGAAGAGTTGTTAATCCGCAAAATCTGGCAA\n",
      "Sequence:\n",
      "['A', 'A', 'A', 'T', 'C', 'T', 'G', 'G', 'C', 'A', 'A', 'C']\n",
      "\n"
     ]
    }
   ],
   "source": [
    "arr = np.array(hsp_word,dtype = int)\n",
    "thres_max = []\n",
    "ref = arr.max(axis=0)[0]\n",
    "\n",
    "def threshold(): # similar process to what is seen above with hsp()\n",
    "    for i in range(0,len(hsp_word)):\n",
    "        cur_score = 0\n",
    "        if arr[i][0] == ref:\n",
    "            up = int(arr[i][1])\n",
    "            up_left = len(query_seq)-up-12\n",
    "            for j in range(up,-1,-1):\n",
    "                if query_seq[j] == gene[int(int(arr[i][2])+ j - up)]:\n",
    "                    cur_score += 5\n",
    "                if query_seq[j] != gene[int(int(arr[i][2])+ j - up)] :\n",
    "                    cur_score -= 4\n",
    "            for k in range(up+12,len(query_seq)) :\n",
    "                if query_seq[k] == gene[int((int(arr[i][2])+12)+k - up - 12)] :\n",
    "                    cur_score += 5\n",
    "                if query_seq[k] != gene[int((int(arr[i][2])+12)+k - up - 12)] :\n",
    "                    cur_score -= 4\n",
    "            thres_max.append([cur_score,i])\n",
    "threshold()\n",
    "\n",
    "# Displaying the final results\n",
    "def dispx():\n",
    "    for i in range(0,len(thres_max)):\n",
    "        print(\"Query:\")\n",
    "        print(''.join(map(str,query_seq[0:len(query_seq)-1])))\n",
    "        print(\"Sequence:\")\n",
    "        print(gene[int(hsp_word[int(thres_max[i][1])][2]) : int(hsp_word[int(thres_max[i][1])][2])+12])\n",
    "        print()\n",
    "dispx()"
   ]
  }
 ],
 "metadata": {
  "kernelspec": {
   "display_name": "Python 3",
   "language": "python",
   "name": "python3"
  },
  "language_info": {
   "codemirror_mode": {
    "name": "ipython",
    "version": 3
   },
   "file_extension": ".py",
   "mimetype": "text/x-python",
   "name": "python",
   "nbconvert_exporter": "python",
   "pygments_lexer": "ipython3",
   "version": "3.8.8"
  }
 },
 "nbformat": 4,
 "nbformat_minor": 5
}
