{
 "cells": [
  {
   "cell_type": "markdown",
   "id": "43a8c65b",
   "metadata": {},
   "source": [
    "# Installing Dependencies"
   ]
  },
  {
   "cell_type": "code",
   "execution_count": 148,
   "id": "800a489c",
   "metadata": {},
   "outputs": [],
   "source": [
    "import numpy as np # zero matrices, arrays, .max(), linspace\n",
    "from numpy.random import randint # random integers"
   ]
  },
  {
   "cell_type": "markdown",
   "id": "3b65b939",
   "metadata": {},
   "source": [
    "# Cleaning Up Matrix For Printing"
   ]
  },
  {
   "cell_type": "code",
   "execution_count": 118,
   "id": "766509b3",
   "metadata": {},
   "outputs": [],
   "source": [
    "def add_bases (x, y, m):\n",
    "    matrix = m.tolist()\n",
    "    matrix.insert(0, [\" \",  \" \"]+list(y))\n",
    "    for i in range(2, len(x) + 2):\n",
    "        matrix[i] = [list(x)[i-2]] + matrix[i]\n",
    "    matrix[1] = [\" \"] + matrix[1]\n",
    "    return matrix\n",
    "    \n",
    "def print_matrix(matrix):\n",
    "    s = [[str(e) for e in row] for row in matrix]\n",
    "    lens = [max(map(len, col)) for col in zip(*s)]\n",
    "    fmt = '\\t'.join('{{:{}}}'.format(x) for x in lens)\n",
    "    table = [fmt.format(*row) for row in s]\n",
    "    print('\\n'.join(table))"
   ]
  },
  {
   "cell_type": "markdown",
   "id": "3ba11b56",
   "metadata": {},
   "source": [
    "# Needleman-Wunsch Algorithm\n",
    "\n",
    "More information: https://light-debt-9c7.notion.site/Chapter-2-Sequence-Alignment-and-Dynamic-Programming-40c6562749e94824aa435afefbc88f49"
   ]
  },
  {
   "cell_type": "code",
   "execution_count": 125,
   "id": "36cf8d36",
   "metadata": {},
   "outputs": [],
   "source": [
    "def nw(x, y, match = 1, mismatch = 1, gap = 2):\n",
    "    nx = len(x) # length of first base sequence\n",
    "    ny = len(y) # length of second base sequence\n",
    "    \n",
    "    # Initialization process - forming the base matrix\n",
    "    F = np.zeros((nx + 1, ny + 1)) # an array \n",
    "    F[:,0] = np.linspace(0, -gap*nx, nx + 1)\n",
    "    F[0,:] = np.linspace(0, -gap*ny, ny + 1)\n",
    "    \n",
    "    # Pointers to trace through an optimal aligment.\n",
    "    P = np.zeros((nx + 1, ny + 1))\n",
    "    P[:,0] = 3\n",
    "    P[0,:] = 4\n",
    "    \n",
    "    # Temporary scores for aligning base x and base y.\n",
    "    t = np.zeros(3)\n",
    "    for i in range(nx):\n",
    "        for j in range(ny):\n",
    "            \n",
    "            # Iteration step: take the max (inserting gap in first sequence, inserting gap in second sequence, match or mutation)\n",
    "            if x[i] == y[j]:\n",
    "                t[0] = F[i,j] + match\n",
    "            else:\n",
    "                t[0] = F[i,j] - mismatch\n",
    "            \n",
    "            # Inserting gap in first sequence\n",
    "            t[1] = F[i,j+1] - gap\n",
    "            # Inserting gap in second sequence\n",
    "            t[2] = F[i+1,j] - gap\n",
    "            tmax = np.max(t)\n",
    "            \n",
    "            F[i+1,j+1] = tmax\n",
    "            if t[0] == tmax:\n",
    "                P[i+1,j+1] += 2\n",
    "                \n",
    "            # Higher weights for inserting gaps rather than matches/mismatches\n",
    "            if t[1] == tmax:\n",
    "                P[i+1,j+1] += 3\n",
    "            if t[2] == tmax:\n",
    "                P[i+1,j+1] += 4\n",
    "\n",
    "    # Trace through an optimal alignment.\n",
    "    i = nx\n",
    "    j = ny\n",
    "    rx = []\n",
    "    ry = []\n",
    "    \n",
    "    tracer_matrix = np.zeros((nx+1, ny+1))\n",
    "    while i > 0 or j > 0:\n",
    "        tracer_matrix[i, j] = -1\n",
    "        \n",
    "        if P[i,j] in [2, 5, 6, 9]:\n",
    "            rx.append(x[i-1])\n",
    "            ry.append(y[j-1])\n",
    "            \n",
    "            i -= 1\n",
    "            j -= 1\n",
    "        \n",
    "        # if there's a gap in the first sequence\n",
    "        elif P[i,j] in [3, 7]:\n",
    "            rx.append(x[i-1])\n",
    "            ry.append('-')\n",
    "            i -= 1\n",
    "            \n",
    "        # if there's a gap in the second sequence\n",
    "        elif P[i,j] in [4]:\n",
    "            rx.append('-')\n",
    "            ry.append(y[j-1])\n",
    "            j -= 1\n",
    "    \n",
    "    \n",
    "    print(\"Pointer matrix:\")\n",
    "    pointer_matrix = add_bases(x, y, P)\n",
    "    print_matrix(pointer_matrix)\n",
    "    \n",
    "    print()\n",
    "    print(\"Tracer matrix:\")\n",
    "    tracer_matrix = add_bases(x, y, tracer_matrix)\n",
    "    print_matrix(tracer_matrix)\n",
    "    \n",
    "    # Reverse the strings.\n",
    "    print()\n",
    "    print(\"Final result:\")\n",
    "    \n",
    "    rx = ''.join(rx)[::-1]\n",
    "    ry = ''.join(ry)[::-1]\n",
    "    \n",
    "    px = \"Sequence 1: \" + rx\n",
    "    py = \"Sequence 2: \" + ry\n",
    "    return ['\\n'.join([px, py]), rx, ry]"
   ]
  },
  {
   "cell_type": "markdown",
   "id": "55b28d81",
   "metadata": {},
   "source": [
    "# Random Sequences"
   ]
  },
  {
   "cell_type": "code",
   "execution_count": 127,
   "id": "1015a9ba",
   "metadata": {},
   "outputs": [
    {
     "name": "stdout",
     "output_type": "stream",
     "text": [
      "Pointer matrix:\n",
      " \t   \tT  \tG  \tC  \tC  \n",
      " \t4.0\t4.0\t4.0\t4.0\t4.0\n",
      "C\t3.0\t2.0\t6.0\t2.0\t6.0\n",
      "C\t3.0\t5.0\t2.0\t2.0\t2.0\n",
      "G\t3.0\t5.0\t2.0\t2.0\t2.0\n",
      "T\t3.0\t2.0\t3.0\t2.0\t2.0\n",
      "\n",
      "Tracer matrix:\n",
      " \t   \tT   \tG   \tC   \tC   \n",
      " \t0.0\t0.0 \t0.0 \t0.0 \t0.0 \n",
      "C\t0.0\t-1.0\t0.0 \t0.0 \t0.0 \n",
      "C\t0.0\t0.0 \t-1.0\t0.0 \t0.0 \n",
      "G\t0.0\t0.0 \t0.0 \t-1.0\t0.0 \n",
      "T\t0.0\t0.0 \t0.0 \t0.0 \t-1.0\n",
      "\n",
      "Final result:\n",
      "Sequence 1: CCGT\n",
      "Sequence 2: TGCC\n"
     ]
    }
   ],
   "source": [
    "np.random.seed(12)\n",
    "\n",
    "# For random sequences (sequence alignment not optimal)\n",
    "x = np.random.choice(['A', 'T', 'G', 'C'], 4)\n",
    "y = np.random.choice(['A', 'T', 'G', 'C'], 4)\n",
    "\n",
    "printseq, seq1, seq2 = nw(x,y)\n",
    "print(printseq)"
   ]
  },
  {
   "cell_type": "markdown",
   "id": "9c575564",
   "metadata": {},
   "source": [
    "# With E.Coli Data"
   ]
  },
  {
   "cell_type": "code",
   "execution_count": 153,
   "id": "6e64b67b",
   "metadata": {},
   "outputs": [],
   "source": [
    "dna = open(\"e_coli_seq.txt\")\n",
    "query = open(\"query.txt\")\n",
    "\n",
    "seq_arrange = []\n",
    "for line in dna:\n",
    "    if line[0] != '>':\n",
    "        end = len(line)\n",
    "        seq_arrange.append(line[:-1])"
   ]
  },
  {
   "cell_type": "code",
   "execution_count": 151,
   "id": "18b6081a",
   "metadata": {},
   "outputs": [],
   "source": [
    "seq_arrange = [i[:13] for i in seq_arrange]\n",
    "\n",
    "first_index = 0\n",
    "second_index = 0\n",
    "\n",
    "while (first_index == second_index):\n",
    "    first_index = randint(0, len(seq_arrange))\n",
    "    second_index = randint(0, len(seq_arrange))\n",
    "first_seq = seq_arrange[first_index]\n",
    "second_seq = seq_arrange[second_index]"
   ]
  },
  {
   "cell_type": "code",
   "execution_count": 152,
   "id": "8fc2bb07",
   "metadata": {},
   "outputs": [
    {
     "name": "stdout",
     "output_type": "stream",
     "text": [
      "Pointer matrix:\n",
      " \t   \tC  \tT  \tC  \tT  \tC  \tA  \tT  \tG  \tG  \tA  \tA  \tG  \tT  \n",
      " \t4.0\t4.0\t4.0\t4.0\t4.0\t4.0\t4.0\t4.0\t4.0\t4.0\t4.0\t4.0\t4.0\t4.0\n",
      "C\t3.0\t2.0\t4.0\t6.0\t4.0\t6.0\t4.0\t4.0\t4.0\t4.0\t4.0\t4.0\t4.0\t4.0\n",
      "C\t3.0\t5.0\t2.0\t2.0\t4.0\t6.0\t4.0\t4.0\t4.0\t4.0\t4.0\t4.0\t4.0\t4.0\n",
      "G\t3.0\t3.0\t5.0\t2.0\t2.0\t6.0\t6.0\t6.0\t2.0\t6.0\t4.0\t4.0\t6.0\t4.0\n",
      "G\t3.0\t3.0\t5.0\t5.0\t2.0\t2.0\t6.0\t6.0\t2.0\t2.0\t4.0\t4.0\t6.0\t4.0\n",
      "T\t3.0\t3.0\t2.0\t5.0\t2.0\t2.0\t2.0\t2.0\t4.0\t6.0\t2.0\t6.0\t6.0\t2.0\n",
      "T\t3.0\t3.0\t5.0\t2.0\t5.0\t2.0\t2.0\t2.0\t6.0\t6.0\t6.0\t2.0\t6.0\t2.0\n",
      "A\t3.0\t3.0\t3.0\t5.0\t5.0\t5.0\t2.0\t7.0\t2.0\t6.0\t2.0\t6.0\t6.0\t6.0\n",
      "T\t3.0\t3.0\t5.0\t5.0\t2.0\t5.0\t3.0\t2.0\t4.0\t2.0\t6.0\t2.0\t6.0\t2.0\n",
      "T\t3.0\t3.0\t5.0\t5.0\t5.0\t2.0\t3.0\t5.0\t2.0\t6.0\t2.0\t6.0\t2.0\t2.0\n",
      "G\t3.0\t3.0\t3.0\t5.0\t3.0\t5.0\t5.0\t3.0\t2.0\t2.0\t4.0\t4.0\t2.0\t6.0\n",
      "A\t3.0\t3.0\t3.0\t5.0\t3.0\t5.0\t2.0\t3.0\t3.0\t5.0\t2.0\t6.0\t4.0\t4.0\n",
      "G\t3.0\t3.0\t3.0\t5.0\t3.0\t5.0\t3.0\t5.0\t5.0\t2.0\t3.0\t2.0\t2.0\t4.0\n",
      "A\t3.0\t3.0\t3.0\t5.0\t3.0\t5.0\t5.0\t5.0\t3.0\t3.0\t2.0\t2.0\t2.0\t2.0\n",
      "\n",
      "Tracer matrix:\n",
      " \t    \tC   \tT   \tC   \tT   \tC   \tA   \tT   \tG   \tG   \tA   \tA   \tG   \tT   \n",
      " \t0.0 \t0.0 \t0.0 \t0.0 \t0.0 \t0.0 \t0.0 \t0.0 \t0.0 \t0.0 \t0.0 \t0.0 \t0.0 \t0.0 \n",
      "C\t-1.0\t0.0 \t0.0 \t0.0 \t0.0 \t0.0 \t0.0 \t0.0 \t0.0 \t0.0 \t0.0 \t0.0 \t0.0 \t0.0 \n",
      "C\t0.0 \t-1.0\t0.0 \t0.0 \t0.0 \t0.0 \t0.0 \t0.0 \t0.0 \t0.0 \t0.0 \t0.0 \t0.0 \t0.0 \n",
      "G\t0.0 \t0.0 \t-1.0\t0.0 \t0.0 \t0.0 \t0.0 \t0.0 \t0.0 \t0.0 \t0.0 \t0.0 \t0.0 \t0.0 \n",
      "G\t0.0 \t0.0 \t0.0 \t-1.0\t0.0 \t0.0 \t0.0 \t0.0 \t0.0 \t0.0 \t0.0 \t0.0 \t0.0 \t0.0 \n",
      "T\t0.0 \t0.0 \t0.0 \t0.0 \t-1.0\t0.0 \t0.0 \t0.0 \t0.0 \t0.0 \t0.0 \t0.0 \t0.0 \t0.0 \n",
      "T\t0.0 \t0.0 \t0.0 \t0.0 \t0.0 \t-1.0\t0.0 \t0.0 \t0.0 \t0.0 \t0.0 \t0.0 \t0.0 \t0.0 \n",
      "A\t0.0 \t0.0 \t0.0 \t0.0 \t0.0 \t0.0 \t-1.0\t0.0 \t0.0 \t0.0 \t0.0 \t0.0 \t0.0 \t0.0 \n",
      "T\t0.0 \t0.0 \t0.0 \t0.0 \t0.0 \t0.0 \t0.0 \t-1.0\t0.0 \t0.0 \t0.0 \t0.0 \t0.0 \t0.0 \n",
      "T\t0.0 \t0.0 \t0.0 \t0.0 \t0.0 \t0.0 \t0.0 \t0.0 \t-1.0\t0.0 \t0.0 \t0.0 \t0.0 \t0.0 \n",
      "G\t0.0 \t0.0 \t0.0 \t0.0 \t0.0 \t0.0 \t0.0 \t0.0 \t0.0 \t-1.0\t-1.0\t0.0 \t0.0 \t0.0 \n",
      "A\t0.0 \t0.0 \t0.0 \t0.0 \t0.0 \t0.0 \t0.0 \t0.0 \t0.0 \t0.0 \t0.0 \t-1.0\t0.0 \t0.0 \n",
      "G\t0.0 \t0.0 \t0.0 \t0.0 \t0.0 \t0.0 \t0.0 \t0.0 \t0.0 \t0.0 \t0.0 \t0.0 \t-1.0\t0.0 \n",
      "A\t0.0 \t0.0 \t0.0 \t0.0 \t0.0 \t0.0 \t0.0 \t0.0 \t0.0 \t0.0 \t0.0 \t0.0 \t0.0 \t-1.0\n",
      "\n",
      "Final result:\n",
      "Sequence 1: CCGGTTATTG-AGA\n",
      "Sequence 2: -CTCTCATGGAAGT\n"
     ]
    }
   ],
   "source": [
    "printseq, seq1, seq2 = nw(first_seq, second_seq)\n",
    "print(printseq)"
   ]
  }
 ],
 "metadata": {
  "kernelspec": {
   "display_name": "Python 3",
   "language": "python",
   "name": "python3"
  },
  "language_info": {
   "codemirror_mode": {
    "name": "ipython",
    "version": 3
   },
   "file_extension": ".py",
   "mimetype": "text/x-python",
   "name": "python",
   "nbconvert_exporter": "python",
   "pygments_lexer": "ipython3",
   "version": "3.8.8"
  }
 },
 "nbformat": 4,
 "nbformat_minor": 5
}
